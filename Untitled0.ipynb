{
  "nbformat": 4,
  "nbformat_minor": 0,
  "metadata": {
    "colab": {
      "provenance": [],
      "authorship_tag": "ABX9TyN/mPJL5H6XjkwAG0xaGpWU",
      "include_colab_link": true
    },
    "kernelspec": {
      "name": "python3",
      "display_name": "Python 3"
    },
    "language_info": {
      "name": "python"
    }
  },
  "cells": [
    {
      "cell_type": "markdown",
      "metadata": {
        "id": "view-in-github",
        "colab_type": "text"
      },
      "source": [
        "<a href=\"https://colab.research.google.com/github/AhmadAkbar999/AhmadAkbar999/blob/main/Untitled0.ipynb\" target=\"_parent\"><img src=\"https://colab.research.google.com/assets/colab-badge.svg\" alt=\"Open In Colab\"/></a>"
      ]
    },
    {
      "cell_type": "code",
      "source": [
        "\n",
        "import random\n",
        "welcome_message = \"WELCOME TO CUYPY GAMES!\"\n",
        "\n",
        "cuypy_position = random.randint(1, 4)\n",
        "bentuk_goa = \"|_|\"\n",
        "goa_kosong = [bentuk_goa] * 4\n",
        "goa = goa_kosong.copy()\n",
        "goa[cuypy_position -1] = \"|•_•|\"\n",
        "goa_kosong = ' '.join(goa_kosong)\n",
        "goa = ' '.join(goa)\n",
        "\n",
        "print(\"***************************\")\n",
        "print(f\"**{welcome_message}**\")\n",
        "print(\"***************************\")\n",
        "\n",
        "nama_user = input(\"masukkan nama kamu: \")\n",
        "while nama_user == \"\":\n",
        "    nama_user = input(\"isi nama lu bego!!!\")\n",
        "\n",
        "print(f'''\n",
        "Hallo {nama_user}! coba perhatikan\n",
        "goa di bawah ini {goa_kosong}\n",
        "''')\n",
        "pilihan_user = int(input('''menurut kamu di goa nomer berapa CUYPY berada?\n",
        "[1/2/3/4]: '''))\n",
        "confirm_answer = input(f'''\n",
        "apakah kamu yakin dengan goa nomer {pilihan_user}?\n",
        "[Y/N]: ''')\n",
        "if confirm_answer == \"N\":\n",
        "   print(\"program dihentikan!\")\n",
        "   exit()\n",
        "\n",
        "elif confirm_answer == \"Y\":\n",
        "    if pilihan_user == cuypy_position:\n",
        "       print(f\"{goa} \\n Selamat Kamu Menang! 🎉🏆\")\n",
        "    else:\n",
        "       print (f\"{goa} \\n Maaf Kamu Kalah! 🐒🙊\")\n",
        "else:\n",
        "    print(\"BEGO LU!!!\")\n",
        "    exit()"
      ],
      "metadata": {
        "colab": {
          "base_uri": "https://localhost:8080/"
        },
        "id": "jagcScxYW09t",
        "outputId": "5bdad4ba-b89f-4175-cb63-d85371f91455"
      },
      "execution_count": null,
      "outputs": [
        {
          "output_type": "stream",
          "name": "stdout",
          "text": [
            "***************************\n",
            "**WELCOME TO CUYPY GAMES!**\n",
            "***************************\n",
            "masukkan nama kamu: Akbar\n",
            "\n",
            "Hallo Akbar! coba perhatikan\n",
            "goa di bawah ini |_| |_| |_| |_|\n",
            "\n",
            "menurut kamu di goa nomer berapa CUYPY berada?\n",
            "[1/2/3/4]: 2\n",
            "\n",
            "apakah kamu yakin dengan goa nomer 2?\n",
            "[Y/N]: Y\n",
            "|•_•| |_| |_| |_| \n",
            " Maaf Kamu Kalah! 🐒🙊\n"
          ]
        }
      ]
    }
  ]
}