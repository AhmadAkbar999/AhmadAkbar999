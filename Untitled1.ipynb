{
  "nbformat": 4,
  "nbformat_minor": 0,
  "metadata": {
    "colab": {
      "provenance": [],
      "authorship_tag": "ABX9TyOblQJ2sLhsqaHgA2Xk/Ga2",
      "include_colab_link": true
    },
    "kernelspec": {
      "name": "python3",
      "display_name": "Python 3"
    },
    "language_info": {
      "name": "python"
    }
  },
  "cells": [
    {
      "cell_type": "markdown",
      "metadata": {
        "id": "view-in-github",
        "colab_type": "text"
      },
      "source": [
        "<a href=\"https://colab.research.google.com/github/AhmadAkbar999/AhmadAkbar999/blob/main/Untitled1.ipynb\" target=\"_parent\"><img src=\"https://colab.research.google.com/assets/colab-badge.svg\" alt=\"Open In Colab\"/></a>"
      ]
    },
    {
      "cell_type": "code",
      "source": [
        "\n",
        "class User:\n",
        "    def __init__(self, username, password):\n",
        "        self.username = username\n",
        "        self.password = password\n",
        "        self.tweets = []\n",
        "        self.following = []\n",
        "        self.followers = []\n",
        "\n",
        "    def post_tweet(self, content):\n",
        "        tweet = Tweet(self, content)\n",
        "        self.tweets.append(tweet)\n",
        "        print(f\"{self.username} tweeted: {content}\")\n",
        "\n",
        "    def follow(self, user):\n",
        "        self.following.append(user)\n",
        "        user.followers.append(self)\n",
        "        print(f\"{self.username} is now following {user.username}\")\n",
        "\n",
        "class Tweet:\n",
        "    def __init__(self, user, content):\n",
        "        self.user = user\n",
        "        self.content = content\n",
        "\n",
        "# Contoh penggunaan\n",
        "user1 = User(\"alice\", \"password123\")\n",
        "user2 = User(\"bob\", \"secret456\")\n",
        "\n",
        "user1.post_tweet(\"Hello, Twitter!\")\n",
        "user2.post_tweet(\"Nice to meet you!\")\n",
        "\n",
        "user1.follow(user2)"
      ],
      "metadata": {
        "colab": {
          "base_uri": "https://localhost:8080/"
        },
        "id": "12Nez7y8FK6K",
        "outputId": "a10c8362-69ec-49bd-ecbd-7648304693c1"
      },
      "execution_count": 7,
      "outputs": [
        {
          "output_type": "stream",
          "name": "stdout",
          "text": [
            "alice tweeted: Hello, Twitter!\n",
            "bob tweeted: Nice to meet you!\n",
            "alice is now following bob\n"
          ]
        }
      ]
    }
  ]
}